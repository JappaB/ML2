{
 "cells": [
  {
   "cell_type": "markdown",
   "metadata": {
    "deletable": false,
    "editable": false,
    "nbgrader": {
     "checksum": "9a10081f57b90a368eb8daf62e3ba00e",
     "grade": false,
     "grade_id": "cell-02487845739eb4fd",
     "locked": true,
     "schema_version": 1,
     "solution": false
    }
   },
   "source": [
    "### Lab 3: Expectation Maximization and Variational Autoencoder\n",
    "\n",
    "### Machine Learning 2 (2017/2018)\n",
    "\n",
    "* The lab exercises should be made in groups of two or three people.\n",
    "* The deadline is Friday, 01.06.\n",
    "* Assignment should be submitted through BlackBoard! Make sure to include your and your teammates' names with the submission.\n",
    "* Attach the .IPYNB (IPython Notebook) file containing your code and answers. Naming of the file should be \"studentid1\\_studentid2\\_lab#\", for example, the attached file should be \"12345\\_12346\\_lab1.ipynb\". Only use underscores (\"\\_\") to connect ids, otherwise the files cannot be parsed.\n",
    "\n",
    "Notes on implementation:\n",
    "\n",
    "* You should write your code and answers in an IPython Notebook: http://ipython.org/notebook.html. If you have problems, please ask.\n",
    "* Use __one cell__ for code and markdown answers only!\n",
    "    * Put all code in the cell with the ```# YOUR CODE HERE``` comment and overwrite the ```raise NotImplementedError()``` line.\n",
    "    * For theoretical questions, put your solution using LaTeX style formatting in the YOUR ANSWER HERE cell.\n",
    "* Among the first lines of your notebook should be \"%pylab inline\". This imports all required modules, and your plots will appear inline.\n",
    "* Large parts of you notebook will be graded automatically. Therefore it is important that your notebook can be run completely without errors and within a reasonable time limit. To test your notebook before submission, select Kernel -> Restart \\& Run All.\n",
    "$\\newcommand{\\bx}{\\mathbf{x}} \\newcommand{\\bpi}{\\mathbf{\\pi}} \\newcommand{\\bmu}{\\mathbf{\\mu}} \\newcommand{\\bX}{\\mathbf{X}} \\newcommand{\\bZ}{\\mathbf{Z}} \\newcommand{\\bz}{\\mathbf{z}}$"
   ]
  },
  {
   "cell_type": "markdown",
   "metadata": {
    "deletable": false,
    "editable": false,
    "nbgrader": {
     "checksum": "e4e05229ee79b55d6589e1ea8de68f32",
     "grade": false,
     "grade_id": "cell-a0a6fdb7ca694bee",
     "locked": true,
     "schema_version": 1,
     "solution": false
    }
   },
   "source": [
    "### Installing PyTorch\n",
    "\n",
    "In this lab we will use PyTorch. PyTorch is an open source deep learning framework primarily developed by Facebook's artificial-intelligence research group. In order to install PyTorch in your conda environment go to https://pytorch.org and select your operating system, conda, Python 3.6, no cuda. Copy the text from the \"Run this command:\" box. Now open a terminal and activate your 'ml2labs' conda environment. Paste the text and run. After the installation is done you should restart Jupyter."
   ]
  },
  {
   "cell_type": "markdown",
   "metadata": {
    "deletable": false,
    "editable": false,
    "nbgrader": {
     "checksum": "d9c3d77f550b5fd93b34fd18825c47f0",
     "grade": false,
     "grade_id": "cell-746cac8d9a21943b",
     "locked": true,
     "schema_version": 1,
     "solution": false
    }
   },
   "source": [
    "### MNIST data\n",
    "\n",
    "In this Lab we will use several methods for unsupervised learning on the MNIST dataset of written digits. The dataset contains digital images of handwritten numbers $0$ through $9$. Each image has 28x28 pixels that each take 256 values in a range from white ($= 0$) to  black ($=1$). The labels belonging to the images are also included. \n",
    "Fortunately, PyTorch comes with a MNIST data loader. The first time you run the box below it will download the MNIST data set. That can take a couple of minutes.\n",
    "The main data types in PyTorch are tensors. For Part 1, we will convert those tensors to numpy arrays. In Part 2, we will use the torch module to directly work with PyTorch tensors."
   ]
  },
  {
   "cell_type": "code",
   "execution_count": 3,
   "metadata": {
    "deletable": false,
    "editable": false,
    "nbgrader": {
     "checksum": "4fbc152afa1255331d7b88bf00b7156c",
     "grade": false,
     "grade_id": "cell-7c995be0fda080c0",
     "locked": true,
     "schema_version": 1,
     "solution": false
    }
   },
   "outputs": [
    {
     "name": "stdout",
     "output_type": "stream",
     "text": [
      "Populating the interactive namespace from numpy and matplotlib\n"
     ]
    }
   ],
   "source": [
    "%pylab inline\n",
    "import torch\n",
    "from torchvision import datasets, transforms\n",
    "\n",
    "train_dataset = datasets.MNIST('../data', train=True, download=True,\n",
    "                   transform=transforms.Compose([\n",
    "                       transforms.ToTensor(),\n",
    "                       transforms.Normalize((0.1307,), (0.3081,))\n",
    "                   ]))\n",
    "\n",
    "train_labels = train_dataset.train_labels.numpy()\n",
    "train_data = train_dataset.train_data.numpy()\n",
    "# For EM we will use flattened data\n",
    "train_data = train_data.reshape(train_data.shape[0], -1)\n"
   ]
  },
  {
   "cell_type": "markdown",
   "metadata": {
    "deletable": false,
    "editable": false,
    "nbgrader": {
     "checksum": "4fc852f9bfb0bab10d4c23eada309e89",
     "grade": false,
     "grade_id": "cell-8b4a44df532b1867",
     "locked": true,
     "schema_version": 1,
     "solution": false
    }
   },
   "source": [
    "## Part 1: Expectation Maximization\n",
    "We will use the Expectation Maximization (EM) algorithm for the recognition of handwritten digits in the MNIST dataset. The images are modelled as a Bernoulli mixture model (see Bishop $\\S9.3.3$):\n",
    "$$\n",
    "p(\\bx|\\bmu, \\bpi) = \\sum_{k=1}^K  \\pi_k \\prod_{i=1}^D \\mu_{ki}^{x_i}(1-\\mu_{ki})^{(1-x_i)}\n",
    "$$\n",
    "where $x_i$ is the value of pixel $i$ in an image, $\\mu_{ki}$ represents the probability that pixel $i$ in class $k$ is black, and $\\{\\pi_1, \\ldots, \\pi_K\\}$ are the mixing coefficients of classes in the data. We want to use this data set to classify new images of handwritten numbers."
   ]
  },
  {
   "cell_type": "markdown",
   "metadata": {
    "deletable": false,
    "editable": false,
    "nbgrader": {
     "checksum": "54064637b7e7cf938c0f778d748a226a",
     "grade": false,
     "grade_id": "cell-af03fef663aa85b2",
     "locked": true,
     "schema_version": 1,
     "solution": false
    }
   },
   "source": [
    "### 1.1 Binary data (5 points)\n",
    "As we like to apply our Bernoulli mixture model, write a function `binarize` to convert the (flattened) MNIST data to binary images, where each pixel $x_i \\in \\{0,1\\}$, by thresholding at an appropriate level."
   ]
  },
  {
   "cell_type": "code",
   "execution_count": 4,
   "metadata": {
    "deletable": false,
    "nbgrader": {
     "checksum": "fe8607a4d734f7f26ef1ee1e54b33471",
     "grade": false,
     "grade_id": "cell-ec4365531ca57ef3",
     "locked": false,
     "schema_version": 1,
     "solution": true
    }
   },
   "outputs": [],
   "source": [
    "def binarize(X):\n",
    "    return np.array(X > 128, dtype=np.float)"
   ]
  },
  {
   "cell_type": "code",
   "execution_count": 5,
   "metadata": {
    "deletable": false,
    "editable": false,
    "nbgrader": {
     "checksum": "231b2c9f29bc5c536c60cef4d74793a1",
     "grade": true,
     "grade_id": "cell-2f16f57cb68a83b3",
     "locked": true,
     "points": 5,
     "schema_version": 1,
     "solution": false
    }
   },
   "outputs": [],
   "source": [
    "# Test test test!\n",
    "bin_train_data = binarize(train_data)\n",
    "assert bin_train_data.dtype == np.float\n",
    "assert bin_train_data.shape == train_data.shape\n"
   ]
  },
  {
   "cell_type": "markdown",
   "metadata": {
    "deletable": false,
    "editable": false,
    "nbgrader": {
     "checksum": "a0a39404cc2f67078b399ee34653a3ac",
     "grade": false,
     "grade_id": "cell-462e747685e8670f",
     "locked": true,
     "schema_version": 1,
     "solution": false
    }
   },
   "source": [
    "Sample a few images of digits $2$, $3$ and $4$; and show both the original and the binarized image together with their label."
   ]
  },
  {
   "cell_type": "code",
   "execution_count": 6,
   "metadata": {
    "deletable": false,
    "nbgrader": {
     "checksum": "3f3c981f0fda5ba3bdfcefb9144305c7",
     "grade": true,
     "grade_id": "cell-784c6bd177a9aa42",
     "locked": false,
     "points": 5,
     "schema_version": 1,
     "solution": true
    }
   },
   "outputs": [
    {
     "data": {
      "image/png": "[encoded data removed]",
      "text/plain": [
       "<Figure size 432x288 with 2 Axes>"
      ]
     },
     "metadata": {},
     "output_type": "display_data"
    },
    {
     "data": {
      "image/png": "[encoded data removed]",
      "text/plain": [
       "<Figure size 432x288 with 2 Axes>"
      ]
     },
     "metadata": {},
     "output_type": "display_data"
    },
    {
     "data": {
      "image/png": "[encoded data removed]",
      "text/plain": [
       "<Figure size 432x288 with 2 Axes>"
      ]
     },
     "metadata": {},
     "output_type": "display_data"
    },
    {
     "data": {
      "image/png": "[encoded data removed]",
      "text/plain": [
       "<Figure size 432x288 with 2 Axes>"
      ]
     },
     "metadata": {},
     "output_type": "display_data"
    },
    {
     "data": {
      "image/png": "[encoded data removed]",
      "text/plain": [
       "<Figure size 432x288 with 2 Axes>"
      ]
     },
     "metadata": {},
     "output_type": "display_data"
    },
    {
     "data": {
      "image/png": "[encoded data removed]",
      "text/plain": [
       "<Figure size 432x288 with 2 Axes>"
      ]
     },
     "metadata": {},
     "output_type": "display_data"
    },
    {
     "data": {
      "image/png": "[encoded data removed]",
      "text/plain": [
       "<Figure size 432x288 with 2 Axes>"
      ]
     },
     "metadata": {},
     "output_type": "display_data"
    },
    {
     "data": {
      "image/png": "[encoded data removed]",
      "text/plain": [
       "<Figure size 432x288 with 2 Axes>"
      ]
     },
     "metadata": {},
     "output_type": "display_data"
    },
    {
     "data": {
      "image/png": "[encoded data removed]",
      "text/plain": [
       "<Figure size 432x288 with 2 Axes>"
      ]
     },
     "metadata": {},
     "output_type": "display_data"
    }
   ],
   "source": [
    "twos = np.argwhere(train_labels == 2)\n",
    "threes = np.argwhere(train_labels == 3)\n",
    "fours = np.argwhere(train_labels == 4)\n",
    "sample = np.concatenate((twos[:3], threes[:3], fours[:3]))\n",
    "\n",
    "for image_idx in sample:\n",
    "    fig, axes = plt.subplots(1, 2)\n",
    "    axes[0].imshow(train_data[image_idx].reshape(28, -1))\n",
    "    axes[0].set_title(\"original, label:\"+ str(train_labels[image_idx][0]))\n",
    "    axes[1].imshow(bin_train_data[image_idx].reshape(28, -1))\n",
    "    axes[1].set_title(\"binarized, label:\"+ str(train_labels[image_idx][0]))"
   ]
  },
  {
   "cell_type": "markdown",
   "metadata": {
    "deletable": false,
    "editable": false,
    "nbgrader": {
     "checksum": "4b9da574d24193df76e96ed8ca62c7b0",
     "grade": false,
     "grade_id": "cell-56b33654497d4052",
     "locked": true,
     "schema_version": 1,
     "solution": false
    }
   },
   "source": [
    "### 1.2 Implementation (40 points)\n",
    "You are going to write a function ```EM(X, K, max_iter)``` that implements the EM algorithm on the Bernoulli mixture model. \n",
    "\n",
    "The only parameters the function has are:\n",
    "* ```X``` :: (NxD) array of input training images\n",
    "* ```K``` :: size of the latent space\n",
    "* ```max_iter``` :: maximum number of iterations, i.e. one E-step and one M-step\n",
    "\n",
    "You are free to specify your return statement.\n",
    "\n",
    "Make sure you use a sensible way of terminating the iteration process early to prevent unnecessarily running through all epochs. Vectorize computations using ```numpy``` as  much as possible.\n",
    "\n",
    "You should implement the `E_step(X, mu, pi)` and `M_step(X, gamma)` separately in the functions defined below. These you can then use in your function `EM(X, K, max_iter)`."
   ]
  },
  {
   "cell_type": "code",
   "execution_count": 7,
   "metadata": {
    "deletable": false,
    "nbgrader": {
     "checksum": "316c9131692747c363b5db8e9091d362",
     "grade": false,
     "grade_id": "cell-882b13c117a73cc4",
     "locked": false,
     "schema_version": 1,
     "solution": true
    }
   },
   "outputs": [],
   "source": [
    "from scipy.special import logsumexp\n",
    "def E_step(X, mu, pi):\n",
    "\n",
    "    stabilizer = 1e-6\n",
    "    \n",
    "    #Bishop 9.56\n",
    "    enumerator = X @ np.log(mu+stabilizer).T + (1.0-X) @ np.log(1.0-mu.T+stabilizer) + np.log(pi)\n",
    "#     enumerator = np.dot(X, np.log(mu+stabilizer).T) + np.dot((1.0-X), np.log(1.0-mu.T+stabilizer)) + np.log(pi)\n",
    "    denominator = logsumexp(enumerator, axis=1, keepdims=True)\n",
    "    gamma = np.exp(enumerator - denominator)\n",
    "    \n",
    "    return gamma"
   ]
  },
  {
   "cell_type": "code",
   "execution_count": 8,
   "metadata": {
    "deletable": false,
    "editable": false,
    "nbgrader": {
     "checksum": "1418f4014e98024fc97446ce27766c1d",
     "grade": true,
     "grade_id": "cell-f7c7dd52d82e2498",
     "locked": true,
     "points": 15,
     "schema_version": 1,
     "solution": false
    }
   },
   "outputs": [],
   "source": [
    "# Let's test on 5 datapoints\n",
    "n_test = 5\n",
    "X_test = bin_train_data[:n_test]\n",
    "D_test, K_test = X_test.shape[1], 10\n",
    "\n",
    "np.random.seed(2018)\n",
    "mu_test = np.random.uniform(low=.25, high=.75, size=(K_test,D_test))\n",
    "pi_test = np.ones(K_test) / K_test\n",
    "\n",
    "gamma_test = E_step(X_test, mu_test, pi_test)\n",
    "assert gamma_test.shape == (n_test, K_test)\n"
   ]
  },
  {
   "cell_type": "code",
   "execution_count": 9,
   "metadata": {
    "deletable": false,
    "nbgrader": {
     "checksum": "2c426a613653174795cd9c8327ab6e20",
     "grade": false,
     "grade_id": "cell-f1b11b8765bd1ef6",
     "locked": false,
     "schema_version": 1,
     "solution": true
    }
   },
   "outputs": [],
   "source": [
    "def M_step(X, gamma):\n",
    "    #keep dims to be able to divide the whole matrix at once for Pi\n",
    "    Nk_vec = gamma.sum(axis=0, keepdims=True) #gamma dims = (nxk), Nk dims= (1xk)\n",
    "    \n",
    "    # EDIT: N afleiden van data ipv in argument\n",
    "    N, D = X.shape\n",
    "    _, K = gamma.shape\n",
    "    \n",
    "    # Our interpretation of 9.58:\n",
    "#     mu = np.zeros((K, D))\n",
    "#     for k in range(K):\n",
    "#         mu[k, :] = gamma[:, k] @ X\n",
    "#     mu = mu / Nk_vec.T\n",
    "    \n",
    "    # \"Working\" implementation of 9.58\n",
    "    mu = gamma.T @ X\n",
    "    mu = mu / Nk_vec.T\n",
    "    \n",
    "    pi = np.squeeze(Nk_vec/N)\n",
    "        \n",
    "    return mu, pi"
   ]
  },
  {
   "cell_type": "code",
   "execution_count": 10,
   "metadata": {
    "deletable": false,
    "editable": false,
    "nbgrader": {
     "checksum": "0f60d48b8b22063cef560b42944a0aa4",
     "grade": true,
     "grade_id": "cell-6e7c751b30acfd45",
     "locked": true,
     "points": 15,
     "schema_version": 1,
     "solution": false
    }
   },
   "outputs": [],
   "source": [
    "# Oh, let's test again\n",
    "mu_test, pi_test = M_step(X_test, gamma_test)\n",
    "\n",
    "assert mu_test.shape == (K_test,D_test)\n",
    "assert pi_test.shape == (K_test, )\n"
   ]
  },
  {
   "cell_type": "code",
   "execution_count": 11,
   "metadata": {},
   "outputs": [],
   "source": [
    "def log_x_mu(X, MU):\n",
    "    '''Log and matrix version of bishop 9.48'''\n",
    "    \n",
    "    # X = [N, D]\n",
    "    # MU = [K, D]\n",
    "    # return [N, K]\n",
    "    \n",
    "    stabilizer = 1e-3\n",
    "    return X @ np.log(MU.T + stabilizer) + (1.0-X) @ np.log(1 - MU.T + stabilizer)\n",
    "\n",
    "\n",
    "def log_likelihood(gamma, pi, X, mu):\n",
    "    \n",
    "    # [1, K]\n",
    "    log_pi = np.log(pi + 1e-10).reshape(1, -1)\n",
    "    \n",
    "#     print(\"log pi\", log_pi)\n",
    "    \n",
    "    # [N, K]\n",
    "    weighted_log_probs = log_pi + log_x_mu(X, mu)\n",
    "    \n",
    "#     print(\"log x mu\", log_x_mu(X, mu))\n",
    "    \n",
    "    # Element wise multiplication between gamma and weighted\n",
    "    # log-probabilities and then summed over N and K\n",
    "    result = np.sum(gamma * weighted_log_probs)\n",
    "    \n",
    "#     print(\"gamma * weighted\", gamma * weighted_log_probs)\n",
    "    \n",
    "    return result"
   ]
  },
  {
   "cell_type": "code",
   "execution_count": 12,
   "metadata": {
    "deletable": false,
    "nbgrader": {
     "checksum": "acfec6384b058cb0ce1932006fbfebc4",
     "grade": true,
     "grade_id": "cell-d6c4368246dee7e6",
     "locked": false,
     "points": 10,
     "schema_version": 1,
     "solution": true
    }
   },
   "outputs": [],
   "source": [
    "def EM(X, K, max_iter, mu=None, pi=None):\n",
    "    \n",
    "    # 'Calculate' N and D\n",
    "    N,D = X.shape\n",
    "    \n",
    "    if mu == None and pi == None:\n",
    "        # Init\n",
    "        pi = np.ones(K)/K\n",
    "        mu = np.random.rand(K,D)\n",
    "        \n",
    "    best_log_likelihood = -inf\n",
    "    epsilon = 1e-6 # change in likelihood must be bigger than epsilon\n",
    "\n",
    "    \n",
    "    for i in range(max_iter):\n",
    "        \n",
    "        print('itaration: ', i, '/', max_iter)\n",
    "        \n",
    "        #perform E-step\n",
    "        gamma = E_step(X,mu,pi)        \n",
    "        \n",
    "        #perform M-step\n",
    "        mu,pi = M_step(X, gamma)\n",
    "        \n",
    "#         print(\"mu\", mu)\n",
    "#         print(\"pi\", pi)\n",
    "#         print(\"gamma\", gamma)\n",
    "#         print(\"log-like\", log_likelihood(gamma, pi, X, mu))\n",
    "                \n",
    "#         print(\"M-step mu and pi\", (mu, pi))\n",
    "        \n",
    "        log_like = log_likelihood(gamma, pi, X, mu)\n",
    "        delta = log_like - best_log_likelihood\n",
    "        \n",
    "#         print('log-like: ', log_like)\n",
    "#         print('best log like: ',best_log_likelihood)\n",
    "        # Keep track of log likelihood\n",
    "        log_like = log_likelihood(gamma, pi, X, mu)\n",
    "        delta = log_like - best_log_likelihood    \n",
    "        if delta > 0:\n",
    "            best_log_likelihood = log_like\n",
    "            \n",
    "            # Stop on convergence\n",
    "            if delta < epsilon:\n",
    "                print(\"Converged\")\n",
    "                break\n",
    "            \n",
    "    \n",
    "    return mu, gamma, best_log_likelihood, pi"
   ]
  },
  {
   "cell_type": "code",
   "execution_count": 13,
   "metadata": {
    "scrolled": false
   },
   "outputs": [
    {
     "name": "stdout",
     "output_type": "stream",
     "text": [
      "itaration:  0 / 5\n",
      "itaration:  1 / 5\n",
      "itaration:  2 / 5\n",
      "itaration:  3 / 5\n",
      "itaration:  4 / 5\n"
     ]
    },
    {
     "data": {
      "text/plain": [
       "-405.021433256167"
      ]
     },
     "execution_count": 13,
     "metadata": {},
     "output_type": "execute_result"
    }
   ],
   "source": [
    "mu, gamma, log_like, pi = EM(X_test, 5, 5)\n",
    "log_like"
   ]
  },
  {
   "cell_type": "markdown",
   "metadata": {
    "deletable": false,
    "editable": false,
    "nbgrader": {
     "checksum": "b4fc12faa0da660f7a4d9cc7deb41b25",
     "grade": false,
     "grade_id": "cell-e1077ed3b83489be",
     "locked": true,
     "schema_version": 1,
     "solution": false
    }
   },
   "source": [
    "### 1.3 Three digits experiment (10 points)\n",
    "In analogue with Bishop $\\S9.3.3$, sample a training set consisting of only __binary__ images of written digits $2$, $3$, and $4$. Run your EM algorithm and show the reconstructed digits."
   ]
  },
  {
   "cell_type": "code",
   "execution_count": 14,
   "metadata": {
    "deletable": false,
    "nbgrader": {
     "checksum": "bdbce0fad0ed151063d4c489ce999e3e",
     "grade": true,
     "grade_id": "cell-477155d0264d7259",
     "locked": false,
     "points": 5,
     "schema_version": 1,
     "solution": true
    }
   },
   "outputs": [
    {
     "name": "stdout",
     "output_type": "stream",
     "text": [
      "itaration:  0 / 200\n",
      "itaration:  1 / 200\n",
      "itaration:  2 / 200\n",
      "itaration:  3 / 200\n",
      "itaration:  4 / 200\n",
      "itaration:  5 / 200\n",
      "itaration:  6 / 200\n",
      "itaration:  7 / 200\n",
      "itaration:  8 / 200\n",
      "itaration:  9 / 200\n",
      "itaration:  10 / 200\n",
      "itaration:  11 / 200\n",
      "itaration:  12 / 200\n",
      "itaration:  13 / 200\n",
      "itaration:  14 / 200\n",
      "itaration:  15 / 200\n",
      "itaration:  16 / 200\n",
      "itaration:  17 / 200\n",
      "itaration:  18 / 200\n",
      "itaration:  19 / 200\n",
      "itaration:  20 / 200\n",
      "itaration:  21 / 200\n",
      "itaration:  22 / 200\n",
      "itaration:  23 / 200\n",
      "itaration:  24 / 200\n",
      "itaration:  25 / 200\n",
      "itaration:  26 / 200\n",
      "itaration:  27 / 200\n",
      "itaration:  28 / 200\n",
      "itaration:  29 / 200\n",
      "itaration:  30 / 200\n",
      "itaration:  31 / 200\n",
      "itaration:  32 / 200\n",
      "itaration:  33 / 200\n",
      "itaration:  34 / 200\n",
      "itaration:  35 / 200\n",
      "itaration:  36 / 200\n",
      "itaration:  37 / 200\n",
      "itaration:  38 / 200\n",
      "itaration:  39 / 200\n",
      "itaration:  40 / 200\n",
      "itaration:  41 / 200\n",
      "itaration:  42 / 200\n",
      "itaration:  43 / 200\n",
      "itaration:  44 / 200\n",
      "itaration:  45 / 200\n",
      "itaration:  46 / 200\n",
      "itaration:  47 / 200\n",
      "itaration:  48 / 200\n",
      "itaration:  49 / 200\n",
      "itaration:  50 / 200\n",
      "itaration:  51 / 200\n",
      "itaration:  52 / 200\n",
      "itaration:  53 / 200\n",
      "itaration:  54 / 200\n",
      "itaration:  55 / 200\n",
      "itaration:  56 / 200\n",
      "itaration:  57 / 200\n",
      "itaration:  58 / 200\n",
      "itaration:  59 / 200\n",
      "itaration:  60 / 200\n",
      "itaration:  61 / 200\n",
      "itaration:  62 / 200\n",
      "itaration:  63 / 200\n",
      "itaration:  64 / 200\n",
      "itaration:  65 / 200\n",
      "itaration:  66 / 200\n",
      "itaration:  67 / 200\n",
      "itaration:  68 / 200\n",
      "itaration:  69 / 200\n",
      "itaration:  70 / 200\n",
      "itaration:  71 / 200\n",
      "itaration:  72 / 200\n",
      "itaration:  73 / 200\n",
      "itaration:  74 / 200\n",
      "itaration:  75 / 200\n",
      "itaration:  76 / 200\n",
      "itaration:  77 / 200\n",
      "itaration:  78 / 200\n",
      "itaration:  79 / 200\n",
      "itaration:  80 / 200\n",
      "itaration:  81 / 200\n",
      "itaration:  82 / 200\n",
      "itaration:  83 / 200\n",
      "itaration:  84 / 200\n",
      "Converged\n"
     ]
    }
   ],
   "source": [
    "# Initialize seed so EM converges to the same thing everytime\n",
    "# This is useful to be able to make a mapping between the cluster centers and the predicted label\n",
    "# (once, and not everytime)\n",
    "random.seed(2018)\n",
    "\n",
    "\n",
    "twos = np.argwhere(train_labels == 2)\n",
    "threes = np.argwhere(train_labels == 3)\n",
    "fours = np.argwhere(train_labels == 4)\n",
    "examples = [bin_train_data[twos[0]],bin_train_data[threes[0]],bin_train_data[fours[0]]]\n",
    "labels = [2,3,4]\n",
    "samples_per_class = 1000\n",
    "sample_indices = np.concatenate((twos[:samples_per_class], threes[:samples_per_class], fours[:samples_per_class]))\n",
    "samples = np.squeeze(bin_train_data[sample_indices])\n",
    "sample_labels = np.squeeze(train_labels[sample_indices])\n",
    "samples.shape\n",
    "# X_test.shape\n",
    "mu, gamma, best_log_likelihood, pi = EM(samples, 3, 200)"
   ]
  },
  {
   "cell_type": "code",
   "execution_count": 15,
   "metadata": {},
   "outputs": [
    {
     "name": "stdout",
     "output_type": "stream",
     "text": [
      "Mixing coefficients:  [0.337 0.306 0.356]\n",
      "True mixing coefficients:  [0.333 0.333 0.333]\n"
     ]
    },
    {
     "data": {
      "image/png": "[encoded data removed]",
      "text/plain": [
       "<Figure size 432x288 with 3 Axes>"
      ]
     },
     "metadata": {},
     "output_type": "display_data"
    }
   ],
   "source": [
    "\n",
    "def reconstruction_visualization(mu, K, samples_per_class,samples,gamma):\n",
    "    plt.figure()\n",
    "    for cluster_center in range(K):\n",
    "\n",
    "        plt.subplot(1, K,cluster_center+1)\n",
    "        plt.imshow(mu[cluster_center].reshape(28, -1))\n",
    "    plt.suptitle(\"center means (mu):\")\n",
    "\n",
    "    print(\"Mixing coefficients: \", np.around(pi, decimals=3))\n",
    "    true_mixing = np.ones(3)*samples_per_class/samples.shape[0]\n",
    "    print(\"True mixing coefficients: \",np.around(true_mixing, decimals=3))\n",
    "\n",
    "reconstruction_visualization(mu, 3, samples_per_class, samples, gamma)"
   ]
  },
  {
   "cell_type": "markdown",
   "metadata": {
    "deletable": false,
    "editable": false,
    "nbgrader": {
     "checksum": "485543f4893938d2a9dc1c17d8221cbc",
     "grade": false,
     "grade_id": "cell-88c9664f995b1909",
     "locked": true,
     "schema_version": 1,
     "solution": false
    }
   },
   "source": [
    "Can you identify which element in the latent space corresponds to which digit? What are the identified mixing coefficients for digits $2$, $3$ and $4$, and how do these compare to the true ones?"
   ]
  },
  {
   "cell_type": "markdown",
   "metadata": {
    "deletable": false,
    "nbgrader": {
     "checksum": "ae7b5acea6089e2590059f90b0d0a0be",
     "grade": true,
     "grade_id": "cell-3680ae2159c48193",
     "locked": false,
     "points": 5,
     "schema_version": 1,
     "solution": true
    }
   },
   "source": [
    "## Answer\n",
    "\n",
    "The elements correspond to 3,2,4 from left to right (given that the random seed is set at 2018). The mixing coefficients and the true mixing coefficients are depicted above the plot. The mixing coefficients don't differ too much from the true ones, the EM algorithm thus did a fairly good job"
   ]
  },
  {
   "cell_type": "markdown",
   "metadata": {
    "deletable": false,
    "editable": false,
    "nbgrader": {
     "checksum": "98e04feb59a36867367b3027df9e226d",
     "grade": false,
     "grade_id": "cell-0891dda1c3e80e9a",
     "locked": true,
     "schema_version": 1,
     "solution": false
    }
   },
   "source": [
    "### 1.4 Experiments (20 points)\n",
    "Perform the follow-up experiments listed below using your implementation of the EM algorithm. For each of these, describe/comment on the obtained results and give an explanation. You may still use your dataset with only digits 2, 3 and 4 as otherwise computations can take very long."
   ]
  },
  {
   "cell_type": "markdown",
   "metadata": {
    "deletable": false,
    "editable": false,
    "nbgrader": {
     "checksum": "439067186fa3ef1d7261a9bcf5a84ea6",
     "grade": false,
     "grade_id": "cell-06fe1b1355689928",
     "locked": true,
     "schema_version": 1,
     "solution": false
    }
   },
   "source": [
    "#### 1.4.1 Size of the latent space (5 points)\n",
    "Run EM with $K$ larger or smaller than the true number of classes. Describe your results."
   ]
  },
  {
   "cell_type": "code",
   "execution_count": 16,
   "metadata": {
    "deletable": false,
    "nbgrader": {
     "checksum": "791512aeadd30c4b586b966ca10e6fad",
     "grade": true,
     "grade_id": "cell-6c9057f2546b7215",
     "locked": false,
     "points": 2,
     "schema_version": 1,
     "solution": true
    }
   },
   "outputs": [
    {
     "name": "stdout",
     "output_type": "stream",
     "text": [
      "itaration:  0 / 200\n",
      "itaration:  1 / 200\n",
      "itaration:  2 / 200\n",
      "itaration:  3 / 200\n",
      "itaration:  4 / 200\n",
      "itaration:  5 / 200\n",
      "itaration:  6 / 200\n",
      "itaration:  7 / 200\n",
      "itaration:  8 / 200\n",
      "itaration:  9 / 200\n",
      "itaration:  10 / 200\n",
      "itaration:  11 / 200\n",
      "itaration:  12 / 200\n",
      "itaration:  13 / 200\n",
      "itaration:  14 / 200\n",
      "itaration:  15 / 200\n",
      "itaration:  16 / 200\n",
      "itaration:  17 / 200\n",
      "itaration:  18 / 200\n",
      "itaration:  19 / 200\n",
      "itaration:  20 / 200\n",
      "itaration:  21 / 200\n",
      "itaration:  22 / 200\n",
      "itaration:  23 / 200\n",
      "itaration:  24 / 200\n",
      "itaration:  25 / 200\n",
      "itaration:  26 / 200\n",
      "itaration:  27 / 200\n",
      "itaration:  28 / 200\n",
      "itaration:  29 / 200\n",
      "itaration:  30 / 200\n",
      "itaration:  31 / 200\n",
      "itaration:  32 / 200\n",
      "itaration:  33 / 200\n",
      "itaration:  34 / 200\n",
      "itaration:  35 / 200\n",
      "itaration:  36 / 200\n",
      "itaration:  37 / 200\n",
      "itaration:  38 / 200\n",
      "itaration:  39 / 200\n",
      "itaration:  40 / 200\n",
      "itaration:  41 / 200\n",
      "itaration:  42 / 200\n",
      "itaration:  43 / 200\n",
      "itaration:  44 / 200\n",
      "itaration:  45 / 200\n",
      "itaration:  46 / 200\n",
      "itaration:  47 / 200\n",
      "itaration:  48 / 200\n",
      "itaration:  49 / 200\n",
      "itaration:  50 / 200\n",
      "itaration:  51 / 200\n",
      "itaration:  52 / 200\n",
      "itaration:  53 / 200\n",
      "itaration:  54 / 200\n",
      "itaration:  55 / 200\n",
      "itaration:  56 / 200\n",
      "itaration:  57 / 200\n",
      "itaration:  58 / 200\n",
      "itaration:  59 / 200\n",
      "itaration:  60 / 200\n",
      "itaration:  61 / 200\n",
      "itaration:  62 / 200\n",
      "itaration:  63 / 200\n",
      "itaration:  64 / 200\n",
      "itaration:  65 / 200\n",
      "itaration:  66 / 200\n",
      "itaration:  67 / 200\n",
      "itaration:  68 / 200\n",
      "itaration:  69 / 200\n",
      "itaration:  70 / 200\n",
      "itaration:  71 / 200\n",
      "itaration:  72 / 200\n",
      "itaration:  73 / 200\n",
      "itaration:  74 / 200\n",
      "itaration:  75 / 200\n",
      "itaration:  76 / 200\n",
      "itaration:  77 / 200\n",
      "itaration:  78 / 200\n",
      "itaration:  79 / 200\n",
      "itaration:  80 / 200\n",
      "itaration:  81 / 200\n",
      "itaration:  82 / 200\n",
      "itaration:  83 / 200\n",
      "itaration:  84 / 200\n",
      "itaration:  85 / 200\n",
      "itaration:  86 / 200\n",
      "itaration:  87 / 200\n",
      "itaration:  88 / 200\n",
      "itaration:  89 / 200\n",
      "itaration:  90 / 200\n",
      "itaration:  91 / 200\n",
      "itaration:  92 / 200\n",
      "itaration:  93 / 200\n",
      "itaration:  94 / 200\n",
      "itaration:  95 / 200\n",
      "itaration:  96 / 200\n",
      "itaration:  97 / 200\n",
      "itaration:  98 / 200\n",
      "itaration:  99 / 200\n",
      "itaration:  100 / 200\n",
      "itaration:  101 / 200\n",
      "itaration:  102 / 200\n",
      "itaration:  103 / 200\n",
      "itaration:  104 / 200\n",
      "itaration:  105 / 200\n",
      "itaration:  106 / 200\n",
      "itaration:  107 / 200\n",
      "itaration:  108 / 200\n",
      "itaration:  109 / 200\n",
      "itaration:  110 / 200\n",
      "itaration:  111 / 200\n",
      "itaration:  112 / 200\n",
      "itaration:  113 / 200\n",
      "itaration:  114 / 200\n",
      "itaration:  115 / 200\n",
      "itaration:  116 / 200\n",
      "itaration:  117 / 200\n",
      "itaration:  118 / 200\n",
      "itaration:  119 / 200\n",
      "itaration:  120 / 200\n",
      "itaration:  121 / 200\n",
      "itaration:  122 / 200\n",
      "itaration:  123 / 200\n",
      "itaration:  124 / 200\n",
      "itaration:  125 / 200\n",
      "itaration:  126 / 200\n",
      "itaration:  127 / 200\n",
      "itaration:  128 / 200\n",
      "itaration:  129 / 200\n",
      "itaration:  130 / 200\n",
      "itaration:  131 / 200\n",
      "itaration:  132 / 200\n",
      "itaration:  133 / 200\n",
      "itaration:  134 / 200\n",
      "itaration:  135 / 200\n",
      "itaration:  136 / 200\n",
      "itaration:  137 / 200\n",
      "itaration:  138 / 200\n",
      "itaration:  139 / 200\n",
      "itaration:  140 / 200\n",
      "itaration:  141 / 200\n",
      "itaration:  142 / 200\n",
      "itaration:  143 / 200\n",
      "itaration:  144 / 200\n",
      "itaration:  145 / 200\n",
      "itaration:  146 / 200\n",
      "itaration:  147 / 200\n",
      "itaration:  148 / 200\n",
      "itaration:  149 / 200\n",
      "itaration:  150 / 200\n",
      "itaration:  151 / 200\n",
      "itaration:  152 / 200\n",
      "itaration:  153 / 200\n",
      "itaration:  154 / 200\n",
      "itaration:  155 / 200\n",
      "itaration:  156 / 200\n",
      "itaration:  157 / 200\n",
      "itaration:  158 / 200\n",
      "itaration:  159 / 200\n",
      "itaration:  160 / 200\n",
      "itaration:  161 / 200\n",
      "itaration:  162 / 200\n",
      "itaration:  163 / 200\n",
      "itaration:  164 / 200\n",
      "itaration:  165 / 200\n",
      "itaration:  166 / 200\n",
      "itaration:  167 / 200\n",
      "itaration:  168 / 200\n",
      "itaration:  169 / 200\n",
      "itaration:  170 / 200\n",
      "itaration:  171 / 200\n",
      "itaration:  172 / 200\n",
      "itaration:  173 / 200\n",
      "itaration:  174 / 200\n",
      "itaration:  175 / 200\n",
      "itaration:  176 / 200\n",
      "itaration:  177 / 200\n",
      "itaration:  178 / 200\n",
      "itaration:  179 / 200\n",
      "itaration:  180 / 200\n",
      "itaration:  181 / 200\n",
      "itaration:  182 / 200\n",
      "itaration:  183 / 200\n",
      "itaration:  184 / 200\n",
      "itaration:  185 / 200\n",
      "itaration:  186 / 200\n",
      "itaration:  187 / 200\n",
      "itaration:  188 / 200\n",
      "itaration:  189 / 200\n",
      "itaration:  190 / 200\n",
      "itaration:  191 / 200\n",
      "itaration:  192 / 200\n",
      "itaration:  193 / 200\n",
      "itaration:  194 / 200\n",
      "itaration:  195 / 200\n",
      "itaration:  196 / 200\n",
      "itaration:  197 / 200\n",
      "itaration:  198 / 200\n",
      "itaration:  199 / 200\n"
     ]
    }
   ],
   "source": [
    "random.seed(2018)\n",
    "# K smaller than the true number of classes\n",
    "mu, gamma, best_log_likelihood, pi = EM(samples, 2, 200)\n",
    "\n"
   ]
  },
  {
   "cell_type": "code",
   "execution_count": 17,
   "metadata": {},
   "outputs": [
    {
     "name": "stdout",
     "output_type": "stream",
     "text": [
      "Mixing coefficients:  [0.387 0.613]\n",
      "True mixing coefficients:  [0.333 0.333 0.333]\n"
     ]
    },
    {
     "data": {
      "image/png": "[encoded data removed]",
      "text/plain": [
       "<Figure size 432x288 with 2 Axes>"
      ]
     },
     "metadata": {},
     "output_type": "display_data"
    }
   ],
   "source": [
    "reconstruction_visualization(mu, 2, samples_per_class,samples,gamma)"
   ]
  },
  {
   "cell_type": "code",
   "execution_count": 18,
   "metadata": {},
   "outputs": [
    {
     "name": "stdout",
     "output_type": "stream",
     "text": [
      "itaration:  0 / 200\n",
      "itaration:  1 / 200\n",
      "itaration:  2 / 200\n",
      "itaration:  3 / 200\n",
      "itaration:  4 / 200\n",
      "itaration:  5 / 200\n",
      "itaration:  6 / 200\n",
      "itaration:  7 / 200\n",
      "itaration:  8 / 200\n",
      "itaration:  9 / 200\n",
      "itaration:  10 / 200\n",
      "itaration:  11 / 200\n",
      "itaration:  12 / 200\n",
      "itaration:  13 / 200\n",
      "itaration:  14 / 200\n",
      "itaration:  15 / 200\n",
      "itaration:  16 / 200\n",
      "itaration:  17 / 200\n",
      "itaration:  18 / 200\n",
      "itaration:  19 / 200\n",
      "itaration:  20 / 200\n",
      "itaration:  21 / 200\n",
      "itaration:  22 / 200\n",
      "itaration:  23 / 200\n",
      "itaration:  24 / 200\n",
      "itaration:  25 / 200\n",
      "itaration:  26 / 200\n",
      "itaration:  27 / 200\n",
      "itaration:  28 / 200\n",
      "itaration:  29 / 200\n",
      "itaration:  30 / 200\n",
      "itaration:  31 / 200\n",
      "itaration:  32 / 200\n",
      "itaration:  33 / 200\n",
      "itaration:  34 / 200\n",
      "itaration:  35 / 200\n",
      "itaration:  36 / 200\n",
      "itaration:  37 / 200\n",
      "itaration:  38 / 200\n",
      "itaration:  39 / 200\n",
      "itaration:  40 / 200\n",
      "itaration:  41 / 200\n",
      "itaration:  42 / 200\n",
      "itaration:  43 / 200\n",
      "itaration:  44 / 200\n",
      "itaration:  45 / 200\n",
      "itaration:  46 / 200\n",
      "itaration:  47 / 200\n",
      "itaration:  48 / 200\n",
      "itaration:  49 / 200\n",
      "itaration:  50 / 200\n",
      "itaration:  51 / 200\n",
      "itaration:  52 / 200\n",
      "itaration:  53 / 200\n",
      "itaration:  54 / 200\n",
      "itaration:  55 / 200\n",
      "itaration:  56 / 200\n",
      "itaration:  57 / 200\n",
      "itaration:  58 / 200\n",
      "itaration:  59 / 200\n",
      "itaration:  60 / 200\n",
      "itaration:  61 / 200\n",
      "itaration:  62 / 200\n",
      "itaration:  63 / 200\n",
      "itaration:  64 / 200\n",
      "itaration:  65 / 200\n",
      "itaration:  66 / 200\n",
      "itaration:  67 / 200\n",
      "itaration:  68 / 200\n",
      "itaration:  69 / 200\n",
      "itaration:  70 / 200\n",
      "itaration:  71 / 200\n",
      "itaration:  72 / 200\n",
      "itaration:  73 / 200\n",
      "itaration:  74 / 200\n",
      "itaration:  75 / 200\n",
      "itaration:  76 / 200\n",
      "itaration:  77 / 200\n",
      "itaration:  78 / 200\n",
      "itaration:  79 / 200\n",
      "itaration:  80 / 200\n",
      "itaration:  81 / 200\n",
      "itaration:  82 / 200\n",
      "itaration:  83 / 200\n",
      "itaration:  84 / 200\n",
      "itaration:  85 / 200\n",
      "itaration:  86 / 200\n",
      "itaration:  87 / 200\n",
      "itaration:  88 / 200\n",
      "itaration:  89 / 200\n",
      "itaration:  90 / 200\n",
      "itaration:  91 / 200\n",
      "itaration:  92 / 200\n",
      "itaration:  93 / 200\n",
      "itaration:  94 / 200\n",
      "itaration:  95 / 200\n",
      "itaration:  96 / 200\n",
      "itaration:  97 / 200\n",
      "itaration:  98 / 200\n",
      "itaration:  99 / 200\n",
      "itaration:  100 / 200\n",
      "itaration:  101 / 200\n",
      "itaration:  102 / 200\n",
      "itaration:  103 / 200\n",
      "itaration:  104 / 200\n",
      "itaration:  105 / 200\n",
      "itaration:  106 / 200\n",
      "itaration:  107 / 200\n",
      "itaration:  108 / 200\n",
      "itaration:  109 / 200\n",
      "itaration:  110 / 200\n",
      "itaration:  111 / 200\n",
      "itaration:  112 / 200\n",
      "itaration:  113 / 200\n",
      "itaration:  114 / 200\n",
      "itaration:  115 / 200\n",
      "itaration:  116 / 200\n",
      "itaration:  117 / 200\n",
      "itaration:  118 / 200\n",
      "itaration:  119 / 200\n",
      "itaration:  120 / 200\n",
      "itaration:  121 / 200\n",
      "itaration:  122 / 200\n",
      "itaration:  123 / 200\n",
      "itaration:  124 / 200\n",
      "itaration:  125 / 200\n",
      "itaration:  126 / 200\n",
      "itaration:  127 / 200\n",
      "itaration:  128 / 200\n",
      "itaration:  129 / 200\n",
      "itaration:  130 / 200\n",
      "itaration:  131 / 200\n",
      "itaration:  132 / 200\n",
      "itaration:  133 / 200\n",
      "itaration:  134 / 200\n",
      "itaration:  135 / 200\n",
      "itaration:  136 / 200\n",
      "itaration:  137 / 200\n",
      "itaration:  138 / 200\n",
      "itaration:  139 / 200\n",
      "itaration:  140 / 200\n",
      "itaration:  141 / 200\n",
      "itaration:  142 / 200\n",
      "itaration:  143 / 200\n",
      "itaration:  144 / 200\n",
      "itaration:  145 / 200\n",
      "itaration:  146 / 200\n",
      "itaration:  147 / 200\n",
      "itaration:  148 / 200\n",
      "itaration:  149 / 200\n",
      "itaration:  150 / 200\n",
      "itaration:  151 / 200\n",
      "itaration:  152 / 200\n",
      "itaration:  153 / 200\n",
      "itaration:  154 / 200\n",
      "itaration:  155 / 200\n",
      "itaration:  156 / 200\n",
      "itaration:  157 / 200\n",
      "itaration:  158 / 200\n",
      "itaration:  159 / 200\n",
      "itaration:  160 / 200\n",
      "itaration:  161 / 200\n",
      "itaration:  162 / 200\n",
      "itaration:  163 / 200\n",
      "itaration:  164 / 200\n",
      "itaration:  165 / 200\n",
      "itaration:  166 / 200\n",
      "itaration:  167 / 200\n",
      "itaration:  168 / 200\n",
      "itaration:  169 / 200\n",
      "itaration:  170 / 200\n",
      "itaration:  171 / 200\n",
      "itaration:  172 / 200\n",
      "itaration:  173 / 200\n",
      "itaration:  174 / 200\n",
      "itaration:  175 / 200\n",
      "itaration:  176 / 200\n",
      "itaration:  177 / 200\n",
      "itaration:  178 / 200\n",
      "itaration:  179 / 200\n",
      "itaration:  180 / 200\n",
      "itaration:  181 / 200\n",
      "itaration:  182 / 200\n",
      "itaration:  183 / 200\n",
      "itaration:  184 / 200\n",
      "itaration:  185 / 200\n",
      "itaration:  186 / 200\n",
      "itaration:  187 / 200\n",
      "itaration:  188 / 200\n",
      "itaration:  189 / 200\n",
      "itaration:  190 / 200\n",
      "itaration:  191 / 200\n",
      "itaration:  192 / 200\n",
      "itaration:  193 / 200\n",
      "itaration:  194 / 200\n",
      "itaration:  195 / 200\n",
      "itaration:  196 / 200\n",
      "itaration:  197 / 200\n",
      "itaration:  198 / 200\n",
      "itaration:  199 / 200\n"
     ]
    }
   ],
   "source": [
    "random.seed(2018)\n",
    "# K bigger than the true number of classes\n",
    "mu, gamma, best_log_likelihood, pi = EM(samples, 5, 200)"
   ]
  },
  {
   "cell_type": "code",
   "execution_count": 19,
   "metadata": {},
   "outputs": [
    {
     "name": "stdout",
     "output_type": "stream",
     "text": [
      "Mixing coefficients:  [0.18  0.186 0.347 0.147 0.14 ]\n",
      "True mixing coefficients:  [0.333 0.333 0.333]\n"
     ]
    },
    {
     "data": {
      "image/png": "[encoded data removed]",
      "text/plain": [
       "<Figure size 432x288 with 5 Axes>"
      ]
     },
     "metadata": {},
     "output_type": "display_data"
    }
   ],
   "source": [
    "reconstruction_visualization(mu, 5, samples_per_class,samples,gamma)"
   ]
  },
  {
   "cell_type": "markdown",
   "metadata": {
    "deletable": false,
    "nbgrader": {
     "checksum": "e12e40c2d2165e3bb500b5504128910d",
     "grade": true,
     "grade_id": "cell-f01c37653160244b",
     "locked": false,
     "points": 3,
     "schema_version": 1,
     "solution": true
    }
   },
   "source": [
    "## Answer\n",
    "\n",
    "With a K bigger than the true number of classes some mu's/centers depict the same digit.\n",
    "\n",
    "With a K smaller than the true number of classes, the reconstructed digits are more blurred, since the mixing of multiple different digits is obviously more present."
   ]
  },
  {
   "cell_type": "markdown",
   "metadata": {
    "deletable": false,
    "editable": false,
    "nbgrader": {
     "checksum": "b306681523a2e35eea310ac10bb68999",
     "grade": false,
     "grade_id": "cell-cf478d67239b7f2e",
     "locked": true,
     "schema_version": 1,
     "solution": false
    }
   },
   "source": [
    "#### 1.4.2 Identify misclassifications (10 points)\n",
    "How can you use the data labels to assign a label to each of the clusters/latent variables? Use this to identify images that are 'misclassified' and try to understand why they are. Report your findings."
   ]
  },
  {
   "cell_type": "code",
   "execution_count": 20,
   "metadata": {},
   "outputs": [
    {
     "name": "stdout",
     "output_type": "stream",
     "text": [
      "itaration:  0 / 200\n",
      "itaration:  1 / 200\n",
      "itaration:  2 / 200\n",
      "itaration:  3 / 200\n",
      "itaration:  4 / 200\n",
      "itaration:  5 / 200\n",
      "itaration:  6 / 200\n",
      "itaration:  7 / 200\n",
      "itaration:  8 / 200\n",
      "itaration:  9 / 200\n",
      "itaration:  10 / 200\n",
      "itaration:  11 / 200\n",
      "itaration:  12 / 200\n",
      "itaration:  13 / 200\n",
      "itaration:  14 / 200\n",
      "itaration:  15 / 200\n",
      "itaration:  16 / 200\n",
      "itaration:  17 / 200\n",
      "itaration:  18 / 200\n",
      "itaration:  19 / 200\n",
      "itaration:  20 / 200\n",
      "itaration:  21 / 200\n",
      "itaration:  22 / 200\n",
      "itaration:  23 / 200\n",
      "itaration:  24 / 200\n",
      "itaration:  25 / 200\n",
      "itaration:  26 / 200\n",
      "itaration:  27 / 200\n",
      "itaration:  28 / 200\n",
      "itaration:  29 / 200\n",
      "itaration:  30 / 200\n",
      "itaration:  31 / 200\n",
      "itaration:  32 / 200\n",
      "itaration:  33 / 200\n",
      "itaration:  34 / 200\n",
      "itaration:  35 / 200\n",
      "itaration:  36 / 200\n",
      "itaration:  37 / 200\n",
      "itaration:  38 / 200\n",
      "itaration:  39 / 200\n",
      "itaration:  40 / 200\n",
      "itaration:  41 / 200\n",
      "itaration:  42 / 200\n",
      "itaration:  43 / 200\n",
      "itaration:  44 / 200\n",
      "itaration:  45 / 200\n",
      "itaration:  46 / 200\n",
      "itaration:  47 / 200\n",
      "itaration:  48 / 200\n",
      "itaration:  49 / 200\n",
      "itaration:  50 / 200\n",
      "itaration:  51 / 200\n",
      "itaration:  52 / 200\n",
      "itaration:  53 / 200\n",
      "itaration:  54 / 200\n",
      "itaration:  55 / 200\n",
      "itaration:  56 / 200\n",
      "itaration:  57 / 200\n",
      "itaration:  58 / 200\n",
      "itaration:  59 / 200\n",
      "itaration:  60 / 200\n",
      "itaration:  61 / 200\n",
      "itaration:  62 / 200\n",
      "itaration:  63 / 200\n",
      "itaration:  64 / 200\n",
      "itaration:  65 / 200\n",
      "itaration:  66 / 200\n",
      "itaration:  67 / 200\n",
      "itaration:  68 / 200\n",
      "itaration:  69 / 200\n",
      "itaration:  70 / 200\n",
      "itaration:  71 / 200\n",
      "itaration:  72 / 200\n",
      "itaration:  73 / 200\n",
      "itaration:  74 / 200\n",
      "itaration:  75 / 200\n",
      "itaration:  76 / 200\n",
      "itaration:  77 / 200\n",
      "itaration:  78 / 200\n",
      "itaration:  79 / 200\n",
      "itaration:  80 / 200\n",
      "itaration:  81 / 200\n",
      "itaration:  82 / 200\n",
      "itaration:  83 / 200\n",
      "itaration:  84 / 200\n",
      "Converged\n",
      "Mixing coefficients:  [0.337 0.306 0.356]\n",
      "True mixing coefficients:  [0.333 0.333 0.333]\n"
     ]
    },
    {
     "data": {
      "image/png": "[encoded data removed]",
      "text/plain": [
       "<Figure size 432x288 with 3 Axes>"
      ]
     },
     "metadata": {},
     "output_type": "display_data"
    }
   ],
   "source": [
    "\n",
    "random.seed(2018)\n",
    "mu, gamma, best_log_likelihood, pi = EM(samples, 3, 200)\n",
    "reconstruction_visualization(mu, 3, samples_per_class,samples,gamma)"
   ]
  },
  {
   "cell_type": "code",
   "execution_count": 44,
   "metadata": {
    "deletable": false,
    "nbgrader": {
     "checksum": "000c11bd8756a4e24296c7c55d3ee17e",
     "grade": true,
     "grade_id": "cell-daa1a492fbba5c7e",
     "locked": false,
     "points": 5,
     "schema_version": 1,
     "solution": true
    }
   },
   "outputs": [],
   "source": [
    "def misslassification_experiment(samples, N ,plotting = False):\n",
    "    random.seed(2018)\n",
    "    mapping = {0:3, 1:2, 2:4}\n",
    "    misclassification_counter = 0\n",
    "    predicted_labels = [0,0,0]\n",
    "    while misclassification_counter < N:\n",
    "        image_index = np.random.choice(len(samples)) \n",
    "\n",
    "        assigned_k = np.argmax(gamma[image_index,:])\n",
    "        predicted_label = mapping[assigned_k]\n",
    "        true_label = sample_labels[image_index]\n",
    "        np.delete(samples, image_index)\n",
    "\n",
    "\n",
    "        if (predicted_label != true_label):\n",
    "            misclassification_counter +=1\n",
    "            # to distinguish which label has been mispredicted more often\n",
    "            if predicted_label == 2:\n",
    "                predicted_labels[0]+=1\n",
    "            if predicted_label == 3:\n",
    "                predicted_labels[1]+=1\n",
    "            if predicted_label == 4:\n",
    "                predicted_labels[2]+=1\n",
    "\n",
    "\n",
    "            if plotting == True:\n",
    "                plt.figure()\n",
    "                plt.imshow(samples[image_index].reshape(28, -1))\n",
    "                plt.title(str(misclassification_counter)+\") True label: \"+str(true_label)+\" predicted label: \"+str(predicted_label))\n",
    "    \n",
    "    \n",
    "    return predicted_labels"
   ]
  },
  {
   "cell_type": "code",
   "execution_count": 45,
   "metadata": {},
   "outputs": [
    {
     "data": {
      "image/png": "[encoded data removed]",
      "text/plain": [
       "<Figure size 432x288 with 1 Axes>"
      ]
     },
     "metadata": {},
     "output_type": "display_data"
    },
    {
     "data": {
      "image/png": "[encoded data removed]",
      "text/plain": [
       "<Figure size 432x288 with 1 Axes>"
      ]
     },
     "metadata": {},
     "output_type": "display_data"
    },
    {
     "data": {
      "image/png": "[encoded data removed]",
      "text/plain": [
       "<Figure size 432x288 with 1 Axes>"
      ]
     },
     "metadata": {},
     "output_type": "display_data"
    },
    {
     "data": {
      "image/png": "[encoded data removed]",
      "text/plain": [
       "<Figure size 432x288 with 1 Axes>"
      ]
     },
     "metadata": {},
     "output_type": "display_data"
    },
    {
     "data": {
      "image/png": "[encoded data removed]",
      "text/plain": [
       "<Figure size 432x288 with 1 Axes>"
      ]
     },
     "metadata": {},
     "output_type": "display_data"
    },
    {
     "data": {
      "image/png": "[encoded data removed]",
      "text/plain": [
       "<Figure size 432x288 with 1 Axes>"
      ]
     },
     "metadata": {},
     "output_type": "display_data"
    },
    {
     "data": {
      "image/png": "[encoded data removed]",
      "text/plain": [
       "<Figure size 432x288 with 1 Axes>"
      ]
     },
     "metadata": {},
     "output_type": "display_data"
    },
    {
     "data": {
      "image/png": "[encoded data removed]",
      "text/plain": [
       "<Figure size 432x288 with 1 Axes>"
      ]
     },
     "metadata": {},
     "output_type": "display_data"
    },
    {
     "data": {
      "image/png": "[encoded data removed]",
      "text/plain": [
       "<Figure size 432x288 with 1 Axes>"
      ]
     },
     "metadata": {},
     "output_type": "display_data"
    },
    {
     "data": {
      "image/png": "[encoded data removed]",
      "text/plain": [
       "<Figure size 432x288 with 1 Axes>"
      ]
     },
     "metadata": {},
     "output_type": "display_data"
    }
   ],
   "source": [
    "misslassification_experiment(samples, 10, True)\n",
    "predicted_labels = misslassification_experiment(samples, 200)"
   ]
  },
  {
   "cell_type": "code",
   "execution_count": 48,
   "metadata": {},
   "outputs": [
    {
     "name": "stdout",
     "output_type": "stream",
     "text": [
      "The digit with true label 2 has been mispredicted 40.0 % of the times in the sample above\n",
      "The digit with true label 3 has been mispredicted 36.0 % of the times in the sample above\n",
      "The digit with true label 4 has been mispredicted 24.0 % of the times in the sample above\n"
     ]
    }
   ],
   "source": [
    "print(\"The digit with true label 2 has been mispredicted\",(predicted_labels[0]/sum(predicted_labels))*100,\"% of the times in the sample above\")\n",
    "print(\"The digit with true label 3 has been mispredicted\",(predicted_labels[1]/sum(predicted_labels))*100,\"% of the times in the sample above\")\n",
    "print(\"The digit with true label 4 has been mispredicted\",(predicted_labels[2]/sum(predicted_labels))*100,\"% of the times in the sample above\")\n"
   ]
  },
  {
   "cell_type": "markdown",
   "metadata": {
    "deletable": false,
    "nbgrader": {
     "checksum": "baf43434481c13d76ad51e3ba07e2bf5",
     "grade": true,
     "grade_id": "cell-329245c02df7850d",
     "locked": false,
     "points": 5,
     "schema_version": 1,
     "solution": true
    }
   },
   "source": [
    "## Answer:\n",
    "\n",
    "First of all, the above experiment indicates that the digits with true labels 2 or 3 were misclassified a lot more often than the digits with true label 4. If this is true for the whole dataset, the reason might be that the three and the two look more alike than the three and the four or the two and the four. The three and the two thus get confused for being the other more often.\n",
    "\n",
    "When looking at some of the 10 misclassified digits above we can see that this seems to be the case indeed.\n",
    "\n",
    "TODO: eventueel nog de verhoudingen wat als wat gemisclassificeerd is.. Wel interessant op zich"
   ]
  },
  {
   "cell_type": "markdown",
   "metadata": {
    "deletable": false,
    "editable": false,
    "nbgrader": {
     "checksum": "640bc57a2d08c3becf534bb5e4b35971",
     "grade": false,
     "grade_id": "cell-67ce1222e8a7837b",
     "locked": true,
     "schema_version": 1,
     "solution": false
    }
   },
   "source": [
    "#### 1.4.3 Initialize with true values (5 points)\n",
    "Initialize the three classes with the true values of the parameters and see what happens. Report your results."
   ]
  },
  {
   "cell_type": "code",
   "execution_count": 24,
   "metadata": {
    "deletable": false,
    "nbgrader": {
     "checksum": "a48f788e286458ef0f776865a3bcd58b",
     "grade": true,
     "grade_id": "cell-aa5d6b9f941d985d",
     "locked": false,
     "points": 2,
     "schema_version": 1,
     "solution": true
    }
   },
   "outputs": [
    {
     "ename": "SyntaxError",
     "evalue": "invalid syntax (<ipython-input-24-2581385be71a>, line 5)",
     "output_type": "error",
     "traceback": [
      "\u001b[0;36m  File \u001b[0;32m\"<ipython-input-24-2581385be71a>\"\u001b[0;36m, line \u001b[0;32m5\u001b[0m\n\u001b[0;31m    mu_true =\u001b[0m\n\u001b[0m              ^\u001b[0m\n\u001b[0;31mSyntaxError\u001b[0m\u001b[0;31m:\u001b[0m invalid syntax\n"
     ]
    }
   ],
   "source": [
    "# Set seed to random again\n",
    "# random.seed()\n",
    "\n",
    "# calculate true_mu\n",
    "mu_true = \n",
    "\n",
    "pi_true = np.ones(3)*samples_per_class/samples.shape[0]\n",
    "\n",
    "\n",
    "mu, gamma, best_log_likelihood, pi = EM(samples, 3, 200, mu_true, pi_true)\n",
    "reconstruction_visualization(mu, 3, samples_per_class,samples,gamma)"
   ]
  },
  {
   "cell_type": "markdown",
   "metadata": {
    "deletable": false,
    "nbgrader": {
     "checksum": "1dc4adf3081f3bec93f94c3b12b87db9",
     "grade": true,
     "grade_id": "cell-981e44f35a3764b0",
     "locked": false,
     "points": 3,
     "schema_version": 1,
     "solution": true
    }
   },
   "source": [
    "YOUR ANSWER HERE"
   ]
  },
  {
   "cell_type": "markdown",
   "metadata": {
    "deletable": false,
    "editable": false,
    "nbgrader": {
     "checksum": "bd613f41e5d2b7d22b0d5b1e7644a48a",
     "grade": false,
     "grade_id": "cell-19bfd7cf4017ed84",
     "locked": true,
     "schema_version": 1,
     "solution": false
    }
   },
   "source": [
    "## Part 2: Variational Auto-Encoder\n",
    "\n",
    "A Variational Auto-Encoder (VAE) is a probabilistic model $p(\\bx, \\bz)$ over observed variables $\\bx$ and latent variables and/or parameters $\\bz$. Here we distinguish the decoder part, $p(\\bx | \\bz) p(\\bz)$ and an encoder part $p(\\bz | \\bx)$ that are both specified with a neural network. A lower bound on the log marginal likelihood $\\log p(\\bx)$ can be obtained by approximately inferring the latent variables z from the observed data x using an encoder distribution $q(\\bz| \\bx)$ that is also specified as a neural network. This lower bound is then optimized to fit the model to the data. \n",
    "\n",
    "The model was introduced by Diederik Kingma (during his PhD at the UVA) and Max Welling in 2013, https://arxiv.org/abs/1312.6114. \n",
    "\n",
    "Since it is such an important model there are plenty of well written tutorials that should help you with the assignment. E.g: https://jaan.io/what-is-variational-autoencoder-vae-tutorial/.\n",
    "\n",
    "In the following, we will make heavily use of the torch module, https://pytorch.org/docs/stable/index.html. Most of the time replacing `np.` with `torch.` will do the trick, e.g. `np.sum` becomes `torch.sum` and `np.log` becomes `torch.log`. In addition, we will use `torch.FloatTensor()` as an equivalent to `np.array()`. In order to train our VAE efficiently we will make use of batching. The number of data points in a batch will become the first dimension of our data tensor, e.g. A batch of 128 MNIST images has the dimensions [128, 1, 28, 28]. To check check the dimensions of a tensor you can call `.size()`."
   ]
  },
  {
   "cell_type": "markdown",
   "metadata": {
    "deletable": false,
    "editable": false,
    "nbgrader": {
     "checksum": "92bd337f41c3f94777f47376c7149ca7",
     "grade": false,
     "grade_id": "cell-bcbe35b20c1007d3",
     "locked": true,
     "schema_version": 1,
     "solution": false
    }
   },
   "source": [
    "### 2.1 Loss function\n",
    "The objective function (variational lower bound), that we will use to train the VAE, consists of two terms: a log Bernoulli loss (reconstruction loss) and a Kullback–Leibler divergence. We implement the two terms separately and combine them in the end.\n",
    "As seen in Part 1: Expectation Maximization, we can use a multivariate Bernoulli distribution to model the likelihood $p(\\bx | \\bz)$ of black and white images. Formally, the variational lower bound is maximized but in PyTorch we are always minimizing therefore we need to calculate the negative log Bernoulli loss and Kullback–Leibler divergence."
   ]
  },
  {
   "cell_type": "markdown",
   "metadata": {
    "deletable": false,
    "editable": false,
    "nbgrader": {
     "checksum": "3fb5f70b132e1233983ef89d19998374",
     "grade": false,
     "grade_id": "cell-389d81024af846e5",
     "locked": true,
     "schema_version": 1,
     "solution": false
    }
   },
   "source": [
    "### 2.1.1 Negative Log Bernoulli loss (5 points)\n",
    "The negative log Bernoulli loss is defined as,\n",
    "\n",
    "\\begin{align}\n",
    "loss = - (\\sum_i^D \\bx_i \\log \\hat{\\bx_i} + (1 − \\bx_i) \\log(1 − \\hat{\\bx_i})).\n",
    "\\end{align}\n",
    "\n",
    "Write a function `log_bernoulli_loss` that takes a D dimensional vector `x`, its reconstruction `x_hat` and returns the negative log Bernoulli loss. Make sure that your function works for batches of arbitrary size."
   ]
  },
  {
   "cell_type": "code",
   "execution_count": null,
   "metadata": {
    "deletable": false,
    "nbgrader": {
     "checksum": "952435ca03f47ab67a7e88b8306fc9a0",
     "grade": false,
     "grade_id": "cell-1d504606d6f99145",
     "locked": false,
     "schema_version": 1,
     "solution": true
    }
   },
   "outputs": [],
   "source": [
    "def log_bernoulli_loss(x_hat, x):\n",
    "    \n",
    "#     stabilizer = 1e-6\n",
    "#     loss = x * torch.log(x_hat + stabilizer) + (1 - x) * torch.log(1 - x_hat + stabilizer)\n",
    "#     loss = -torch.sum(loss)\n",
    "    loss = F.binary_cross_entropy_with_logits(x_hat, x)    \n",
    "    return loss\n"
   ]
  },
  {
   "cell_type": "code",
   "execution_count": null,
   "metadata": {
    "deletable": false,
    "editable": false,
    "nbgrader": {
     "checksum": "bd2a490aa694507bd032e86d77fc0087",
     "grade": true,
     "grade_id": "cell-9666dad0b2a9f483",
     "locked": true,
     "points": 5,
     "schema_version": 1,
     "solution": false
    }
   },
   "outputs": [],
   "source": [
    "### Test test test\n",
    "x_test = torch.FloatTensor([[0.1, 0.2, 0.3, 0.4], [0.5, 0.6, 0.7, 0.8], [0.9, 0.9, 0.9, 0.9]])\n",
    "x_hat_test = torch.FloatTensor([[0.11, 0.22, 0.33, 0.44], [0.55, 0.66, 0.77, 0.88], [0.99, 0.99, 0.99, 0.99]])\n",
    "\n",
    "assert log_bernoulli_loss(x_hat_test, x_test) > 0.0\n",
    "assert log_bernoulli_loss(x_hat_test, x_test) < 10.0\n"
   ]
  },
  {
   "cell_type": "markdown",
   "metadata": {
    "deletable": false,
    "editable": false,
    "nbgrader": {
     "checksum": "6b75b7a531ecc87bce57925c4da464ee",
     "grade": false,
     "grade_id": "cell-b3a7c02dee7aa505",
     "locked": true,
     "schema_version": 1,
     "solution": false
    }
   },
   "source": [
    "### 2.1.2 Negative Kullback–Leibler divergence (10 Points)\n",
    "The variational lower bound (the objective to be maximized) contains a KL term $D_{KL}(q(\\bz)||p(\\bz))$ that can often be calculated analytically. In the VAE we assume $q = N(\\bz, \\mu, \\sigma^2I)$ and $p = N(\\bz, 0, I)$. Solve analytically!"
   ]
  },
  {
   "cell_type": "markdown",
   "metadata": {
    "deletable": false,
    "nbgrader": {
     "checksum": "d01a7e7fe2dcf5f1c5fb955b85c8a04a",
     "grade": true,
     "grade_id": "cell-4cab10fd1a636858",
     "locked": false,
     "points": 5,
     "schema_version": 1,
     "solution": true
    }
   },
   "source": [
    "% TODO: Derivation\n",
    "\n",
    "$$ -KL(q||p) = \\frac{1}{2} * \\sum_{j=1}^J (1 + log(\\sigma_j^2) - \\mu_j^2 - \\sigma_j^2)$$\n",
    "\n",
    "$$KL(p,q)=logσ2σ1+σ21+(μ1−μ2)22σ22−12"
   ]
  },
  {
   "cell_type": "markdown",
   "metadata": {
    "deletable": false,
    "editable": false,
    "nbgrader": {
     "checksum": "328115c94a66e8aba0a62896e647c3ba",
     "grade": false,
     "grade_id": "cell-c49899cbf2a49362",
     "locked": true,
     "schema_version": 1,
     "solution": false
    }
   },
   "source": [
    "Write a function `KL_loss` that takes two J dimensional vectors `mu` and `logvar` and returns the negative Kullback–Leibler divergence. Where `logvar` is $\\log(\\sigma^2)$. Make sure that your function works for batches of arbitrary size."
   ]
  },
  {
   "cell_type": "code",
   "execution_count": null,
   "metadata": {
    "deletable": false,
    "nbgrader": {
     "checksum": "33b14b79372dd0235d67bb66921cd3e0",
     "grade": false,
     "grade_id": "cell-125b41878005206b",
     "locked": false,
     "schema_version": 1,
     "solution": true
    }
   },
   "outputs": [],
   "source": [
    "def KL_loss(mu, logvar):\n",
    "    \n",
    "    loss = -0.5 * torch.sum(1 + logvar - mu.pow(2) - logvar.exp())   \n",
    "    return loss\n"
   ]
  },
  {
   "cell_type": "code",
   "execution_count": null,
   "metadata": {
    "deletable": false,
    "editable": false,
    "nbgrader": {
     "checksum": "cf72e196d2b60827e8e940681ac50a07",
     "grade": true,
     "grade_id": "cell-ba714bbe270a3f39",
     "locked": true,
     "points": 5,
     "schema_version": 1,
     "solution": false
    }
   },
   "outputs": [],
   "source": [
    "### Test test test\n",
    "mu_test = torch.FloatTensor([[0.1, 0.2], [0.3, 0.4], [0.5, 0.6]])\n",
    "logvar_test = torch.FloatTensor([[0.01, 0.02], [0.03, 0.04], [0.05, 0.06]])\n",
    "\n",
    "assert KL_loss(mu_test, logvar_test) > 0.0\n",
    "assert KL_loss(mu_test, logvar_test) < 10.0\n"
   ]
  },
  {
   "cell_type": "markdown",
   "metadata": {
    "deletable": false,
    "editable": false,
    "nbgrader": {
     "checksum": "65335a588baac26bc48dd6c4d275fdca",
     "grade": false,
     "grade_id": "cell-18cb3f8031edec23",
     "locked": true,
     "schema_version": 1,
     "solution": false
    }
   },
   "source": [
    "### 2.1.3 Putting the losses together (5 points)\n",
    "Write a function `loss_function` that takes a D dimensional vector `x`, its reconstruction `x_hat`, two J dimensional vectors `mu` and `logvar` and returns the final loss. Make sure that your function works for batches of arbitrary size."
   ]
  },
  {
   "cell_type": "code",
   "execution_count": null,
   "metadata": {
    "deletable": false,
    "nbgrader": {
     "checksum": "f6ecb5b60b2c8d7b90070ed59320ee70",
     "grade": false,
     "grade_id": "cell-d2d18781683f1302",
     "locked": false,
     "schema_version": 1,
     "solution": true
    }
   },
   "outputs": [],
   "source": [
    "def loss_function(x_hat, x, mu, logvar):\n",
    "    \n",
    "    recon = log_bernoulli_loss(x_hat, x)\n",
    "    kl = KL_loss(mu, logvar)\n",
    "    \n",
    "    loss = recon + kl\n",
    "    \n",
    "    return loss\n"
   ]
  },
  {
   "cell_type": "code",
   "execution_count": null,
   "metadata": {
    "deletable": false,
    "editable": false,
    "nbgrader": {
     "checksum": "816e9508408bfcb2c7332b508d505081",
     "grade": true,
     "grade_id": "cell-57747988d29bbb5d",
     "locked": true,
     "points": 5,
     "schema_version": 1,
     "solution": false
    }
   },
   "outputs": [],
   "source": [
    "x_test = torch.FloatTensor([[0.1, 0.2, 0.3], [0.4, 0.5, 0.6], [0.7, 0.8, 0.9]])\n",
    "x_hat_test = torch.FloatTensor([[0.11, 0.22, 0.33], [0.44, 0.55, 0.66], [0.77, 0.88, 0.99]])\n",
    "mu_test = torch.FloatTensor([[0.1, 0.2], [0.3, 0.4], [0.5, 0.6]])\n",
    "logvar_test = torch.FloatTensor([[0.01, 0.02], [0.03, 0.04], [0.05, 0.06]])\n",
    "\n",
    "assert loss_function(x_hat_test, x_test, mu_test, logvar_test) > 0.0\n",
    "assert loss_function(x_hat_test, x_test, mu_test, logvar_test) < 10.0\n"
   ]
  },
  {
   "cell_type": "markdown",
   "metadata": {
    "deletable": false,
    "editable": false,
    "nbgrader": {
     "checksum": "4506e06ed44a0535140582277a528ba4",
     "grade": false,
     "grade_id": "cell-9e3ba708967fe918",
     "locked": true,
     "schema_version": 1,
     "solution": false
    }
   },
   "source": [
    "### 2.2 The model\n",
    "Below you see a data structure for the VAE. The modell itself consists of two main parts the encoder (images $\\bx$ to latent variables $\\bz$) and the decoder (latent variables $\\bz$ to images $\\bx$). The encoder is using 3 fully-connected layers, whereas the decoder is using fully-connected layers. Right now the data structure is quite empty, step by step will update its functionality. For test purposes we will initialize a VAE for you. After the data structure is completed you will do the hyperparameter search.\n"
   ]
  },
  {
   "cell_type": "code",
   "execution_count": null,
   "metadata": {
    "deletable": false,
    "editable": false,
    "nbgrader": {
     "checksum": "31eccf2f6600764e28eb4bc6c5634e49",
     "grade": false,
     "grade_id": "cell-e7d9dafee18f28a1",
     "locked": true,
     "schema_version": 1,
     "solution": false
    }
   },
   "outputs": [],
   "source": [
    "from torch import nn\n",
    "from torch.nn import functional as F \n",
    "\n",
    "class VAE(nn.Module):\n",
    "    def __init__(self, fc1_dims, fc21_dims, fc22_dims, fc3_dims, fc4_dims):\n",
    "        super(VAE, self).__init__()\n",
    "\n",
    "        self.fc1 = nn.Linear(*fc1_dims)\n",
    "        self.fc21 = nn.Linear(*fc21_dims)\n",
    "        self.fc22 = nn.Linear(*fc22_dims)\n",
    "        self.fc3 = nn.Linear(*fc3_dims)\n",
    "        self.fc4 = nn.Linear(*fc4_dims)\n",
    "\n",
    "    def encode(self, x):\n",
    "        # To be implemented\n",
    "        raise Exception('Method not implemented')\n",
    "\n",
    "    def reparameterize(self, mu, logvar):\n",
    "        # To be implemented\n",
    "        raise Exception('Method not implemented')\n",
    "\n",
    "    def decode(self, z):\n",
    "        # To be implemented\n",
    "        raise Exception('Method not implemented')\n",
    "\n",
    "    def forward(self, x):\n",
    "        # To be implemented\n",
    "        raise Exception('Method not implemented')\n",
    "\n",
    "VAE_test = VAE(fc1_dims=(784, 4), fc21_dims=(4, 2), fc22_dims=(4, 2), fc3_dims=(2, 4), fc4_dims=(4, 784))\n"
   ]
  },
  {
   "cell_type": "markdown",
   "metadata": {
    "deletable": false,
    "editable": false,
    "nbgrader": {
     "checksum": "1a2243397998b4f55c25dfd734f3e7e0",
     "grade": false,
     "grade_id": "cell-c4f9e841b8972a43",
     "locked": true,
     "schema_version": 1,
     "solution": false
    }
   },
   "source": [
    "### 2.3 Encoding (10 points)\n",
    "Write a function `encode` that gets a vector `x` with 784 elements (flattened MNIST image) and returns `mu` and `logvar`. Your function should use three fully-connected layers (`self.fc1()`, `self.fc21()`, `self.fc22()`). First, you should use `self.fc1()` to embed `x`. Second, you should use `self.fc21()` and `self.fc22()` on the embedding of `x` to compute `mu` and `logvar` respectively. PyTorch comes with a variety of activation functions, the most common calls are `F.relu()`, `F.sigmoid()`, `F.tanh()`. Make sure that your function works for batches of arbitrary size.  "
   ]
  },
  {
   "cell_type": "code",
   "execution_count": null,
   "metadata": {
    "deletable": false,
    "nbgrader": {
     "checksum": "628bcd88c611cf01e70f77854600199b",
     "grade": false,
     "grade_id": "cell-93cb75b98ae76569",
     "locked": false,
     "schema_version": 1,
     "solution": true
    }
   },
   "outputs": [],
   "source": [
    "def encode(self, x):\n",
    "    \n",
    "    embed = self.fc1(x)\n",
    "    embed = F.sigmoid(embed)\n",
    "    \n",
    "    mu = self.fc21(embed)\n",
    "    logvar = self.fc22(embed)\n",
    "    \n",
    "    mu = F.relu(mu)\n",
    "    \n",
    "    return mu, logvar\n"
   ]
  },
  {
   "cell_type": "code",
   "execution_count": null,
   "metadata": {
    "deletable": false,
    "editable": false,
    "nbgrader": {
     "checksum": "370d930fa9f10f1d3a451f3805c04d88",
     "grade": true,
     "grade_id": "cell-9648960b73337a70",
     "locked": true,
     "points": 10,
     "schema_version": 1,
     "solution": false
    }
   },
   "outputs": [],
   "source": [
    "### Test, test, test\n",
    "VAE.encode = encode\n",
    "\n",
    "x_test = torch.ones((5,784))\n",
    "mu_test, logvar_test = VAE_test.encode(x_test)\n",
    "\n",
    "assert np.allclose(mu_test.size(), [5, 2])\n",
    "assert np.allclose(logvar_test.size(), [5, 2])\n"
   ]
  },
  {
   "cell_type": "markdown",
   "metadata": {
    "deletable": false,
    "editable": false,
    "nbgrader": {
     "checksum": "6f597cc2b5ef941af282d7162297f865",
     "grade": false,
     "grade_id": "cell-581b4ed1996be868",
     "locked": true,
     "schema_version": 1,
     "solution": false
    }
   },
   "source": [
    "### 2.4 Reparameterization (10 points)\n",
    "One of the major question that the VAE is answering, is 'how to take derivatives with respect to the parameters of a stochastic variable?', i.e. if we are given $\\bz$ that is drawn from a distribution $q(\\bz|\\bx)$, and we want to take derivatives. This step is necessary to be able to use gradient-based optimization algorithms like SGD.\n",
    "For some distributions, it is possible to reparameterize samples in a clever way, such that the stochasticity is independent of the parameters. We want our samples to deterministically depend on the parameters of the distribution. For example, in a normally-distributed variable with mean $\\mu$ and standard deviation $\\sigma$, we can sample from it like this:\n",
    "\n",
    "\\begin{align}\n",
    "\\bz = \\mu + \\sigma \\odot \\epsilon,\n",
    "\\end{align}\n",
    "\n",
    "where $\\odot$ is the element-wise multiplication and $\\epsilon$ is sampled from $N(0, I)$.\n",
    "\n",
    "\n",
    "Write a function `reparameterize` that takes two J dimensional vectors `mu` and `logvar`. It should return $\\bz = \\mu + \\sigma \\odot \\epsilon$.\n"
   ]
  },
  {
   "cell_type": "code",
   "execution_count": null,
   "metadata": {
    "deletable": false,
    "nbgrader": {
     "checksum": "6331cb5dd23aaacbcf1a52cfecb1afaa",
     "grade": false,
     "grade_id": "cell-679aea8b2adf7ec4",
     "locked": false,
     "schema_version": 1,
     "solution": true
    }
   },
   "outputs": [],
   "source": [
    "def reparameterize(self, mu, logvar):\n",
    "        \n",
    "        if self.training:\n",
    "            eps = torch.randn_like(mu)\n",
    "            z = mu + torch.sqrt(torch.exp(logvar)) * eps\n",
    "        else:\n",
    "            z = mu\n",
    "        \n",
    "        return z\n"
   ]
  },
  {
   "cell_type": "code",
   "execution_count": null,
   "metadata": {
    "deletable": false,
    "editable": false,
    "nbgrader": {
     "checksum": "38d4e047717ab334b262c8c177f0a420",
     "grade": true,
     "grade_id": "cell-fdd7b27a3d17f84e",
     "locked": true,
     "points": 10,
     "schema_version": 1,
     "solution": false
    }
   },
   "outputs": [],
   "source": [
    "### Test, test, test\n",
    "VAE.reparameterize = reparameterize\n",
    "VAE_test.train()\n",
    "\n",
    "mu_test = torch.FloatTensor([[0.1, 0.2], [0.3, 0.4], [0.5, 0.6]])\n",
    "logvar_test = torch.FloatTensor([[0.01, 0.02], [0.03, 0.04], [0.05, 0.06]])\n",
    "\n",
    "z_test = VAE_test.reparameterize(mu_test, logvar_test)\n",
    "\n",
    "assert np.allclose(z_test.size(), [3, 2])\n",
    "assert z_test[0][0] < 5.0\n",
    "assert z_test[0][0] > -5.0\n"
   ]
  },
  {
   "cell_type": "markdown",
   "metadata": {
    "deletable": false,
    "editable": false,
    "nbgrader": {
     "checksum": "9241ab0eaf8366c37ad57072ce66f095",
     "grade": false,
     "grade_id": "cell-0be851f9f7f0a93e",
     "locked": true,
     "schema_version": 1,
     "solution": false
    }
   },
   "source": [
    "### 2.5 Decoding (10 points)\n",
    "Write a function `decode` that gets a vector `z` with J elements and returns a vector `x_hat` with 784 elements (flattened MNIST image). Your function should use two fully-connected layers (`self.fc3()`, `self.fc4()`). PyTorch comes with a variety of activation functions, the most common calls are `F.relu()`, `F.sigmoid()`, `F.tanh()`. Make sure that your function works for batches of arbitrary size."
   ]
  },
  {
   "cell_type": "code",
   "execution_count": null,
   "metadata": {
    "deletable": false,
    "nbgrader": {
     "checksum": "e8e833cfd7c54a9b67a38056d5d6cab8",
     "grade": false,
     "grade_id": "cell-bf92bb3878275a41",
     "locked": false,
     "schema_version": 1,
     "solution": true
    }
   },
   "outputs": [],
   "source": [
    "def decode(self, z):\n",
    "    \n",
    "    x_hat = self.fc3(z)\n",
    "    x_hat = F.tanh(x_hat)\n",
    "    x_hat = self.fc4(x_hat)\n",
    "    x_hat = F.sigmoid(x_hat)\n",
    "    \n",
    "    return x_hat\n"
   ]
  },
  {
   "cell_type": "code",
   "execution_count": null,
   "metadata": {
    "deletable": false,
    "editable": false,
    "nbgrader": {
     "checksum": "7732293fd7d971fcf255496e8c68638d",
     "grade": true,
     "grade_id": "cell-4abb91cb9e80af5d",
     "locked": true,
     "points": 10,
     "schema_version": 1,
     "solution": false
    }
   },
   "outputs": [],
   "source": [
    "# test test test\n",
    "VAE.decode = decode\n",
    "\n",
    "z_test = torch.ones((5,2))\n",
    "x_hat_test = VAE_test.decode(z_test)\n",
    "\n",
    "assert np.allclose(x_hat_test.size(), [5, 784])\n",
    "assert (x_hat_test <= 1).all()\n",
    "assert (x_hat_test >= 0).all()\n"
   ]
  },
  {
   "cell_type": "markdown",
   "metadata": {
    "deletable": false,
    "editable": false,
    "nbgrader": {
     "checksum": "e2e113d1f45398b2a1399c336526e755",
     "grade": false,
     "grade_id": "cell-97511fbc4f5b469b",
     "locked": true,
     "schema_version": 1,
     "solution": false
    }
   },
   "source": [
    "### 2.6 Forward pass (10)\n",
    "To complete the data structure you have to define a forward pass through the VAE. A single forward pass consists of the encoding of an MNIST image $\\bx$ into latent space $\\bz$, the reparameterization of $\\bz$ and the decoding of $\\bz$ into an image $\\bx$.\n",
    "\n",
    "Write a function `forward` that gets a a vector `x` with 784 elements (flattened MNIST image) and returns a vector `x_hat` with 784 elements (flattened MNIST image), `mu` and `logvar`."
   ]
  },
  {
   "cell_type": "code",
   "execution_count": null,
   "metadata": {
    "deletable": false,
    "nbgrader": {
     "checksum": "8b7433c4631dd01c07a5fe287e55ae13",
     "grade": false,
     "grade_id": "cell-26bb463b9f98ebd5",
     "locked": false,
     "schema_version": 1,
     "solution": true
    }
   },
   "outputs": [],
   "source": [
    "def forward(self, x):\n",
    "    x = x.view(-1, 784)\n",
    "    mu, logvar = self.encode(x)\n",
    "    z = self.reparameterize(mu, logvar)\n",
    "    x_hat = self.decode(z)\n",
    "    return x_hat, mu, logvar\n"
   ]
  },
  {
   "cell_type": "code",
   "execution_count": null,
   "metadata": {
    "deletable": false,
    "editable": false,
    "nbgrader": {
     "checksum": "8e7e495f40465c162512e9873c360b25",
     "grade": true,
     "grade_id": "cell-347e5fba3d02754b",
     "locked": true,
     "points": 10,
     "schema_version": 1,
     "solution": false
    }
   },
   "outputs": [],
   "source": [
    "# test test test \n",
    "VAE.forward = forward\n",
    "\n",
    "x_test = torch.ones((5,784))\n",
    "x_hat_test, mu_test, logvar_test = VAE_test.forward(x_test)\n",
    "\n",
    "assert np.allclose(x_hat_test.size(), [5, 784])\n",
    "assert np.allclose(mu_test.size(), [5, 2])\n",
    "assert np.allclose(logvar_test.size(), [5, 2])\n"
   ]
  },
  {
   "cell_type": "markdown",
   "metadata": {
    "deletable": false,
    "editable": false,
    "nbgrader": {
     "checksum": "a114a6fd781fb949b887e6a028e07946",
     "grade": false,
     "grade_id": "cell-62c89e4d3b253671",
     "locked": true,
     "schema_version": 1,
     "solution": false
    }
   },
   "source": [
    "### 2.7 Training (15)\n",
    "We will now train the VAE using an optimizer called Adam, https://arxiv.org/abs/1412.6980. The code to train a model in PyTorch is given below."
   ]
  },
  {
   "cell_type": "code",
   "execution_count": null,
   "metadata": {
    "deletable": false,
    "editable": false,
    "nbgrader": {
     "checksum": "f3b6bb965fb48229c63cacda48baea65",
     "grade": false,
     "grade_id": "cell-be75f61b09f3b9b6",
     "locked": true,
     "schema_version": 1,
     "solution": false
    }
   },
   "outputs": [],
   "source": [
    "from torch.autograd import Variable\n",
    "\n",
    "def train(epoch, train_loader, model, optimizer):\n",
    "    model.train()\n",
    "    train_loss = 0\n",
    "    for batch_idx, (data, _) in enumerate(train_loader):\n",
    "        data = Variable(data)\n",
    "        optimizer.zero_grad()\n",
    "        recon_batch, mu, logvar = model(data)\n",
    "        loss = loss_function(recon_batch, data.view(-1, 784), mu, logvar)\n",
    "        loss.backward()\n",
    "        train_loss += loss.data\n",
    "        optimizer.step()\n",
    "        if batch_idx % 100 == 0:\n",
    "            print('Train Epoch: {} [{}/{} ({:.0f}%)]\\tLoss: {:.6f}'.format(\n",
    "                epoch, batch_idx * len(data), len(train_loader.dataset),\n",
    "                100. * batch_idx / len(train_loader),\n",
    "                loss.data / len(data)))\n",
    "\n",
    "    print('====> Epoch: {} Average loss: {:.4f}'.format(\n",
    "          epoch, train_loss / len(train_loader.dataset)))\n"
   ]
  },
  {
   "cell_type": "markdown",
   "metadata": {
    "deletable": false,
    "editable": false,
    "nbgrader": {
     "checksum": "48ca730dbef06a668f4dfdb24888f265",
     "grade": false,
     "grade_id": "cell-da1b063b7de850b9",
     "locked": true,
     "schema_version": 1,
     "solution": false
    }
   },
   "source": [
    "Let's train. You have to choose the hyperparameters. Make sure your loss is going down in a reasonable amount of epochs (around 10)."
   ]
  },
  {
   "cell_type": "code",
   "execution_count": null,
   "metadata": {
    "deletable": false,
    "nbgrader": {
     "checksum": "846430258fb80f50b161135448726520",
     "grade": false,
     "grade_id": "cell-d4d4408d397f6967",
     "locked": false,
     "schema_version": 1,
     "solution": true
    }
   },
   "outputs": [],
   "source": [
    "# Hyperparameters\n",
    "latent_dim = 2\n",
    "hidden_dim = 256\n",
    "fc1_dims = (784,hidden_dim)\n",
    "fc21_dims = (hidden_dim, latent_dim)\n",
    "fc22_dims = (hidden_dim, latent_dim)\n",
    "fc3_dims = (latent_dim, hidden_dim)\n",
    "fc4_dims = (hidden_dim, 784)\n",
    "lr = 1e-4\n",
    "batch_size = 128\n",
    "epochs = 5\n",
    "\n"
   ]
  },
  {
   "cell_type": "code",
   "execution_count": null,
   "metadata": {
    "deletable": false,
    "editable": false,
    "nbgrader": {
     "checksum": "b93390f399b743276bc25e67493344f2",
     "grade": true,
     "grade_id": "cell-ca352d8389c1809a",
     "locked": true,
     "points": 15,
     "schema_version": 1,
     "solution": false
    }
   },
   "outputs": [],
   "source": [
    "# This cell contains a hidden test, please don't delete it, thx"
   ]
  },
  {
   "cell_type": "markdown",
   "metadata": {
    "deletable": false,
    "editable": false,
    "nbgrader": {
     "checksum": "20719070ed85964de9722acc3456a515",
     "grade": false,
     "grade_id": "cell-5c77370db7cec9f2",
     "locked": true,
     "schema_version": 1,
     "solution": false
    }
   },
   "source": [
    "Run the box below to train the model using the hyperparameters you entered above."
   ]
  },
  {
   "cell_type": "code",
   "execution_count": null,
   "metadata": {
    "deletable": false,
    "editable": false,
    "nbgrader": {
     "checksum": "38306be3638e85812bd5b2a052fcc0a4",
     "grade": false,
     "grade_id": "cell-5712d42de1068398",
     "locked": true,
     "schema_version": 1,
     "solution": false
    }
   },
   "outputs": [],
   "source": [
    "from torchvision import datasets, transforms\n",
    "from torch import nn, optim\n",
    "\n",
    "# Load data\n",
    "train_data = datasets.MNIST('../data', train=True, download=True,\n",
    "                   transform=transforms.ToTensor())\n",
    "\n",
    "train_loader = torch.utils.data.DataLoader(train_data,\n",
    "                                           batch_size=batch_size, shuffle=True, **{})\n",
    "\n",
    "# Init model\n",
    "VAE_MNIST = VAE(fc1_dims=fc1_dims, fc21_dims=fc21_dims, fc22_dims=fc22_dims, fc3_dims=fc3_dims, fc4_dims=fc4_dims)\n",
    "\n",
    "# Init optimizer\n",
    "optimizer = optim.Adam(VAE_MNIST.parameters(), lr=lr)\n",
    "\n",
    "# Train\n",
    "for epoch in range(1, epochs + 1):\n",
    "    train(epoch, train_loader, VAE_MNIST, optimizer)\n"
   ]
  },
  {
   "cell_type": "markdown",
   "metadata": {
    "deletable": false,
    "editable": false,
    "nbgrader": {
     "checksum": "e2f8fcc9384e30cb154cf931f223898b",
     "grade": false,
     "grade_id": "cell-bd07c058c661b9c6",
     "locked": true,
     "schema_version": 1,
     "solution": false
    }
   },
   "source": [
    "Run the box below to check if the model you trained above is able to correctly reconstruct images."
   ]
  },
  {
   "cell_type": "code",
   "execution_count": null,
   "metadata": {
    "deletable": false,
    "editable": false,
    "nbgrader": {
     "checksum": "80d198e03b1287741d761a12e38dcf73",
     "grade": false,
     "grade_id": "cell-df03d717307a6863",
     "locked": true,
     "schema_version": 1,
     "solution": false
    }
   },
   "outputs": [],
   "source": [
    "### Let's check if the reconstructions make sense\n",
    "# Set model to test mode\n",
    "VAE_MNIST.eval()\n",
    "    \n",
    "# Reconstructed\n",
    "train_data_plot = datasets.MNIST('../data', train=True, download=True,\n",
    "                   transform=transforms.ToTensor())\n",
    "\n",
    "train_loader_plot = torch.utils.data.DataLoader(train_data_plot,\n",
    "                                           batch_size=1, shuffle=False, **{})\n",
    "\n",
    "for batch_idx, (data, _) in enumerate(train_loader_plot):\n",
    "    x_hat, mu, logvar = VAE_MNIST(data)\n",
    "    plt.imshow(x_hat.view(1,28,28).squeeze().data.numpy(), cmap='gray')\n",
    "    plt.title('%i' % train_data.train_labels[batch_idx])\n",
    "    plt.show()\n",
    "    if batch_idx == 3:\n",
    "        break\n"
   ]
  },
  {
   "cell_type": "code",
   "execution_count": null,
   "metadata": {},
   "outputs": [],
   "source": [
    "_ = VAE_MNIST.decode(torch.FloatTensor([0.2, 0.5]))"
   ]
  },
  {
   "cell_type": "markdown",
   "metadata": {
    "deletable": false,
    "editable": false,
    "nbgrader": {
     "checksum": "7f559122b150f5f1228d6b66b62f462c",
     "grade": false,
     "grade_id": "cell-76649d51fdf133dc",
     "locked": true,
     "schema_version": 1,
     "solution": false
    }
   },
   "source": [
    "### 2.8 Visualize latent space (20 points)\n",
    "Now, implement the auto-encoder now with a 2-dimensional latent space, and train again over the MNIST data. Make a visualization of the learned manifold by using a linearly spaced coordinate grid as input for the latent space, as seen in  https://arxiv.org/abs/1312.6114 Figure 4."
   ]
  },
  {
   "cell_type": "code",
   "execution_count": null,
   "metadata": {
    "deletable": false,
    "nbgrader": {
     "checksum": "c879ffdb0d355349d7144a33d16ca93a",
     "grade": true,
     "grade_id": "cell-4a0af6d08d055bee",
     "locked": false,
     "points": 20,
     "schema_version": 1,
     "solution": true
    }
   },
   "outputs": [],
   "source": [
    "N = 10\n",
    "rows = np.linspace(0, 1, N)\n",
    "cols = rows.copy()\n",
    "\n",
    "[0.1, 0]\n",
    "\n",
    "fig, ax = plt.subplots(N, N, figsize=(28,28))\n",
    "\n",
    "for i_idx, i in enumerate(rows):\n",
    "    for j_idx, j in enumerate(cols):\n",
    "        \n",
    "        # Build tensor t\n",
    "        z = torch.FloatTensor([i, j]).unsqueeze(0)\n",
    "        x = VAE_MNIST.decode(z).data.numpy()\n",
    "        ax[i_idx,j_idx].imshow(x.reshape(28, -1))\n",
    "        ax[i_idx,j_idx].axis('off')"
   ]
  },
  {
   "cell_type": "markdown",
   "metadata": {
    "deletable": false,
    "editable": false,
    "nbgrader": {
     "checksum": "b9eb1684d646eea84a25638d184bfbda",
     "grade": false,
     "grade_id": "cell-dc5e1247a1e21009",
     "locked": true,
     "schema_version": 1,
     "solution": false
    }
   },
   "source": [
    "### 2.8 Amortized inference (10 points)\n",
    "What is amortized inference? Where in the code of Part 2 is it used? What is the benefit of using it?\n"
   ]
  },
  {
   "cell_type": "markdown",
   "metadata": {
    "deletable": false,
    "nbgrader": {
     "checksum": "364ed922da59070f319d0bdfb0e41d92",
     "grade": true,
     "grade_id": "cell-6f7808a9b0098dbf",
     "locked": false,
     "points": 10,
     "schema_version": 1,
     "solution": true
    }
   },
   "source": [
    "TODO: http://ruishu.io/2017/11/07/amortized-optimization/"
   ]
  },
  {
   "cell_type": "code",
   "execution_count": null,
   "metadata": {},
   "outputs": [],
   "source": []
  }
 ],
 "metadata": {
  "kernelspec": {
   "display_name": "Python 3",
   "language": "python",
   "name": "python3"
  },
  "language_info": {
   "codemirror_mode": {
    "name": "ipython",
    "version": 3
   },
   "file_extension": ".py",
   "mimetype": "text/x-python",
   "name": "python",
   "nbconvert_exporter": "python",
   "pygments_lexer": "ipython3",
   "version": "3.6.4"
  }
 },
 "nbformat": 4,
 "nbformat_minor": 2
}
